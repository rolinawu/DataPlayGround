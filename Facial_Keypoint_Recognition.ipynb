{
 "cells": [
  {
   "cell_type": "code",
   "execution_count": 1,
   "metadata": {
    "collapsed": false
   },
   "outputs": [
    {
     "name": "stdout",
     "output_type": "stream",
     "text": [
      "IdLookupTable.csv    test.csv\r\n",
      "SampleSubmission.csv train.csv\r\n"
     ]
    }
   ],
   "source": [
    "!ls Facial_Keypoint_Recognition"
   ]
  },
  {
   "cell_type": "code",
   "execution_count": 1,
   "metadata": {
    "collapsed": false
   },
   "outputs": [],
   "source": [
    "import pandas as pd\n",
    "import matplotlib.pyplot as plt\n",
    "import numpy as np\n",
    "import csv\n",
    "\n",
    "%matplotlib inline"
   ]
  },
  {
   "cell_type": "code",
   "execution_count": null,
   "metadata": {
    "collapsed": false,
    "scrolled": true
   },
   "outputs": [],
   "source": [
    "#foldername = 'Facial_Keypoint_Recognition/' #can't combine two strings to create a path\n",
    "#idlookup_path = 'Facial_Keypoint_Recognition/IdLookupTable.csv'\n",
    "test_data_path = 'Facial_Keypoint_Recognition/test.csv'\n",
    "train_data_path = 'Facial_Keypoint_Recognition/train.csv'\n",
    "\n",
    "#idlookup = pd.DataFrame.from_csv(idlookup_path, header = None, index_col = None, low_memory=False)\n",
    "#test_data = pd.DataFrame.from_csv(test_data_path, header = None, index_col = None, low_memory=False)\n",
    "#train_data = pd.DataFrame.from_csv(train_data_path, header = None, index_col = None, low_memory=False)\n",
    "with open(train_data_path, 'rb') as csvfile:\n",
    "    train_data = list(csv.reader(csvfile))\n",
    "with open(test_data_path, 'rb') as csvfile:\n",
    "    test_data = list(csv.reader(csvfile))"
   ]
  },
  {
   "cell_type": "code",
   "execution_count": null,
   "metadata": {
    "collapsed": false
   },
   "outputs": [],
   "source": [
    "print \"The size of train data is %d\" % len(train_data)\n",
    "print \"The size of test data is %d\" % len(test_data)"
   ]
  },
  {
   "cell_type": "code",
   "execution_count": null,
   "metadata": {
    "collapsed": false
   },
   "outputs": [],
   "source": [
    "train_data"
   ]
  },
  {
   "cell_type": "code",
   "execution_count": null,
   "metadata": {
    "collapsed": true
   },
   "outputs": [],
   "source": [
    "import tensorflow as tf\n",
    "import keras"
   ]
  }
 ],
 "metadata": {
  "kernelspec": {
   "display_name": "Python 2",
   "language": "python",
   "name": "python2"
  },
  "language_info": {
   "codemirror_mode": {
    "name": "ipython",
    "version": 2
   },
   "file_extension": ".py",
   "mimetype": "text/x-python",
   "name": "python",
   "nbconvert_exporter": "python",
   "pygments_lexer": "ipython2",
   "version": "2.7.11"
  }
 },
 "nbformat": 4,
 "nbformat_minor": 0
}
