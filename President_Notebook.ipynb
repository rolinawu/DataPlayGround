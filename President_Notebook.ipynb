{
 "cells": [
  {
   "cell_type": "code",
   "execution_count": 1,
   "metadata": {
    "collapsed": false
   },
   "outputs": [],
   "source": [
    "import os, sys\n",
    "import numpy as np\n",
    "import matplotlib.pyplot as plt\n",
    "import pandas as pd\n",
    "import sqlite3\n",
    "import csv\n",
    "%matplotlib inline"
   ]
  },
  {
   "cell_type": "markdown",
   "metadata": {},
   "source": [
    "def try_except(func, arg):\n",
    "    try:\n",
    "        return func(arg)\n",
    "    except ValueError:\n",
    "        return arg\n",
    "#remember return\n",
    "#data = np.loadtxt(\"county_facts.csv\")\n",
    "#didn't work because couldn't convert the string to float\n",
    "\n",
    "with open('county_facts.csv', 'rb')as f:\n",
    "    #data = map(lambda entry: map(lambda ele: try_except(float,ele), entry), list(csv.reader(f)))\n",
    "    coun_fact = np.array(list(csv.reader(f)))\n",
    "with open('county_facts_dictionary.csv', 'rb')as f:\n",
    "    coun_fact_dict = np.array(list(csv.reader(f)))\n",
    "with open('primary_results.csv', 'rb')as f:\n",
    "    prim_result = np.array(list(csv.reader(f)))\n",
    "\n",
    "\n",
    "'''\n",
    "Optimization:\n",
    "probably has a simplier way to load data\n",
    "'''"
   ]
  },
  {
   "cell_type": "code",
   "execution_count": 14,
   "metadata": {
    "collapsed": false
   },
   "outputs": [
    {
     "name": "stdout",
     "output_type": "stream",
     "text": [
      "county_facts.csv            database.sqlite\r\n",
      "county_facts_dictionary.csv hashes.txt\r\n",
      "\u001b[34mcounty_shapefiles\u001b[m\u001b[m           primary_results.csv\r\n"
     ]
    }
   ],
   "source": [
    "!ls 2016_presidential_election/"
   ]
  },
  {
   "cell_type": "code",
   "execution_count": 5,
   "metadata": {
    "collapsed": false
   },
   "outputs": [],
   "source": [
    "county_facts_path = \"2016_presidential_election/county_facts.csv\"\n",
    "county_facts_dictionary_path = \"2016_presidential_election/county_facts_dictionary.csv\"\n",
    "prim_result_path = \"2016_presidential_election/primary_results.csv\"\n",
    "\n",
    "count_fact = pd.DataFrame.from_csv(county_facts_path, header = None, index_col = None)\n",
    "count_fact_dict = pd.DataFrame.from_csv(county_facts_dictionary_path, header= None, index_col = None)\n",
    "prim_result = pd.DataFrame.from_csv(prim_result_path, header= None, index_col = None)\n",
    "sqldata = sqlite3.connect('./2016_presidential_election/database.sqlite')"
   ]
  },
  {
   "cell_type": "code",
   "execution_count": 9,
   "metadata": {
    "collapsed": false
   },
   "outputs": [
    {
     "data": {
      "text/html": [
       "<div>\n",
       "<table border=\"1\" class=\"dataframe\">\n",
       "  <thead>\n",
       "    <tr style=\"text-align: right;\">\n",
       "      <th></th>\n",
       "      <th>0</th>\n",
       "      <th>1</th>\n",
       "      <th>2</th>\n",
       "      <th>3</th>\n",
       "      <th>4</th>\n",
       "      <th>5</th>\n",
       "      <th>6</th>\n",
       "      <th>7</th>\n",
       "      <th>8</th>\n",
       "      <th>9</th>\n",
       "      <th>...</th>\n",
       "      <th>44</th>\n",
       "      <th>45</th>\n",
       "      <th>46</th>\n",
       "      <th>47</th>\n",
       "      <th>48</th>\n",
       "      <th>49</th>\n",
       "      <th>50</th>\n",
       "      <th>51</th>\n",
       "      <th>52</th>\n",
       "      <th>53</th>\n",
       "    </tr>\n",
       "  </thead>\n",
       "  <tbody>\n",
       "    <tr>\n",
       "      <th>0</th>\n",
       "      <td>fips</td>\n",
       "      <td>area_name</td>\n",
       "      <td>state_abbreviation</td>\n",
       "      <td>PST045214</td>\n",
       "      <td>PST040210</td>\n",
       "      <td>PST120214</td>\n",
       "      <td>POP010210</td>\n",
       "      <td>AGE135214</td>\n",
       "      <td>AGE295214</td>\n",
       "      <td>AGE775214</td>\n",
       "      <td>...</td>\n",
       "      <td>SBO415207</td>\n",
       "      <td>SBO015207</td>\n",
       "      <td>MAN450207</td>\n",
       "      <td>WTN220207</td>\n",
       "      <td>RTN130207</td>\n",
       "      <td>RTN131207</td>\n",
       "      <td>AFN120207</td>\n",
       "      <td>BPS030214</td>\n",
       "      <td>LND110210</td>\n",
       "      <td>POP060210</td>\n",
       "    </tr>\n",
       "    <tr>\n",
       "      <th>1</th>\n",
       "      <td>0</td>\n",
       "      <td>United States</td>\n",
       "      <td>NaN</td>\n",
       "      <td>318857056</td>\n",
       "      <td>308758105</td>\n",
       "      <td>3.3</td>\n",
       "      <td>308745538</td>\n",
       "      <td>6.2</td>\n",
       "      <td>23.1</td>\n",
       "      <td>14.5</td>\n",
       "      <td>...</td>\n",
       "      <td>8.3</td>\n",
       "      <td>28.8</td>\n",
       "      <td>5319456312</td>\n",
       "      <td>4174286516</td>\n",
       "      <td>3917663456</td>\n",
       "      <td>12990</td>\n",
       "      <td>613795732</td>\n",
       "      <td>1046363</td>\n",
       "      <td>3531905.43</td>\n",
       "      <td>87.4</td>\n",
       "    </tr>\n",
       "    <tr>\n",
       "      <th>2</th>\n",
       "      <td>1000</td>\n",
       "      <td>Alabama</td>\n",
       "      <td>NaN</td>\n",
       "      <td>4849377</td>\n",
       "      <td>4780127</td>\n",
       "      <td>1.4</td>\n",
       "      <td>4779736</td>\n",
       "      <td>6.1</td>\n",
       "      <td>22.8</td>\n",
       "      <td>15.3</td>\n",
       "      <td>...</td>\n",
       "      <td>1.2</td>\n",
       "      <td>28.1</td>\n",
       "      <td>112858843</td>\n",
       "      <td>52252752</td>\n",
       "      <td>57344851</td>\n",
       "      <td>12364</td>\n",
       "      <td>6426342</td>\n",
       "      <td>13369</td>\n",
       "      <td>50645.33</td>\n",
       "      <td>94.4</td>\n",
       "    </tr>\n",
       "    <tr>\n",
       "      <th>3</th>\n",
       "      <td>1001</td>\n",
       "      <td>Autauga County</td>\n",
       "      <td>AL</td>\n",
       "      <td>55395</td>\n",
       "      <td>54571</td>\n",
       "      <td>1.5</td>\n",
       "      <td>54571</td>\n",
       "      <td>6.0</td>\n",
       "      <td>25.2</td>\n",
       "      <td>13.8</td>\n",
       "      <td>...</td>\n",
       "      <td>0.7</td>\n",
       "      <td>31.7</td>\n",
       "      <td>0</td>\n",
       "      <td>0</td>\n",
       "      <td>598175</td>\n",
       "      <td>12003</td>\n",
       "      <td>88157</td>\n",
       "      <td>131</td>\n",
       "      <td>594.44</td>\n",
       "      <td>91.8</td>\n",
       "    </tr>\n",
       "    <tr>\n",
       "      <th>4</th>\n",
       "      <td>1003</td>\n",
       "      <td>Baldwin County</td>\n",
       "      <td>AL</td>\n",
       "      <td>200111</td>\n",
       "      <td>182265</td>\n",
       "      <td>9.8</td>\n",
       "      <td>182265</td>\n",
       "      <td>5.6</td>\n",
       "      <td>22.2</td>\n",
       "      <td>18.7</td>\n",
       "      <td>...</td>\n",
       "      <td>1.3</td>\n",
       "      <td>27.3</td>\n",
       "      <td>1410273</td>\n",
       "      <td>0</td>\n",
       "      <td>2966489</td>\n",
       "      <td>17166</td>\n",
       "      <td>436955</td>\n",
       "      <td>1384</td>\n",
       "      <td>1589.78</td>\n",
       "      <td>114.6</td>\n",
       "    </tr>\n",
       "  </tbody>\n",
       "</table>\n",
       "<p>5 rows × 54 columns</p>\n",
       "</div>"
      ],
      "text/plain": [
       "     0               1                   2          3          4          5   \\\n",
       "0  fips       area_name  state_abbreviation  PST045214  PST040210  PST120214   \n",
       "1     0   United States                 NaN  318857056  308758105        3.3   \n",
       "2  1000         Alabama                 NaN    4849377    4780127        1.4   \n",
       "3  1001  Autauga County                  AL      55395      54571        1.5   \n",
       "4  1003  Baldwin County                  AL     200111     182265        9.8   \n",
       "\n",
       "          6          7          8          9     ...             44  \\\n",
       "0  POP010210  AGE135214  AGE295214  AGE775214    ...      SBO415207   \n",
       "1  308745538        6.2       23.1       14.5    ...            8.3   \n",
       "2    4779736        6.1       22.8       15.3    ...            1.2   \n",
       "3      54571        6.0       25.2       13.8    ...            0.7   \n",
       "4     182265        5.6       22.2       18.7    ...            1.3   \n",
       "\n",
       "          45          46          47          48         49         50  \\\n",
       "0  SBO015207   MAN450207   WTN220207   RTN130207  RTN131207  AFN120207   \n",
       "1       28.8  5319456312  4174286516  3917663456      12990  613795732   \n",
       "2       28.1   112858843    52252752    57344851      12364    6426342   \n",
       "3       31.7           0           0      598175      12003      88157   \n",
       "4       27.3     1410273           0     2966489      17166     436955   \n",
       "\n",
       "          51          52         53  \n",
       "0  BPS030214   LND110210  POP060210  \n",
       "1    1046363  3531905.43       87.4  \n",
       "2      13369    50645.33       94.4  \n",
       "3        131      594.44       91.8  \n",
       "4       1384     1589.78      114.6  \n",
       "\n",
       "[5 rows x 54 columns]"
      ]
     },
     "execution_count": 9,
     "metadata": {},
     "output_type": "execute_result"
    }
   ],
   "source": [
    "count_fact.head()"
   ]
  },
  {
   "cell_type": "code",
   "execution_count": 11,
   "metadata": {
    "collapsed": false
   },
   "outputs": [
    {
     "data": {
      "text/html": [
       "<div>\n",
       "<table border=\"1\" class=\"dataframe\">\n",
       "  <thead>\n",
       "    <tr style=\"text-align: right;\">\n",
       "      <th></th>\n",
       "      <th>0</th>\n",
       "      <th>1</th>\n",
       "    </tr>\n",
       "  </thead>\n",
       "  <tbody>\n",
       "    <tr>\n",
       "      <th>0</th>\n",
       "      <td>column_name</td>\n",
       "      <td>description</td>\n",
       "    </tr>\n",
       "    <tr>\n",
       "      <th>1</th>\n",
       "      <td>PST045214</td>\n",
       "      <td>Population, 2014 estimate</td>\n",
       "    </tr>\n",
       "    <tr>\n",
       "      <th>2</th>\n",
       "      <td>PST040210</td>\n",
       "      <td>Population, 2010 (April 1) estimates base</td>\n",
       "    </tr>\n",
       "    <tr>\n",
       "      <th>3</th>\n",
       "      <td>PST120214</td>\n",
       "      <td>Population, percent change - April 1, 2010 to ...</td>\n",
       "    </tr>\n",
       "    <tr>\n",
       "      <th>4</th>\n",
       "      <td>POP010210</td>\n",
       "      <td>Population, 2010</td>\n",
       "    </tr>\n",
       "  </tbody>\n",
       "</table>\n",
       "</div>"
      ],
      "text/plain": [
       "             0                                                  1\n",
       "0  column_name                                        description\n",
       "1    PST045214                          Population, 2014 estimate\n",
       "2    PST040210          Population, 2010 (April 1) estimates base\n",
       "3    PST120214  Population, percent change - April 1, 2010 to ...\n",
       "4    POP010210                                   Population, 2010"
      ]
     },
     "execution_count": 11,
     "metadata": {},
     "output_type": "execute_result"
    }
   ],
   "source": [
    "count_fact_dict.head()"
   ]
  },
  {
   "cell_type": "code",
   "execution_count": 12,
   "metadata": {
    "collapsed": false
   },
   "outputs": [
    {
     "data": {
      "text/html": [
       "<div>\n",
       "<table border=\"1\" class=\"dataframe\">\n",
       "  <thead>\n",
       "    <tr style=\"text-align: right;\">\n",
       "      <th></th>\n",
       "      <th>0</th>\n",
       "      <th>1</th>\n",
       "      <th>2</th>\n",
       "      <th>3</th>\n",
       "      <th>4</th>\n",
       "      <th>5</th>\n",
       "      <th>6</th>\n",
       "      <th>7</th>\n",
       "    </tr>\n",
       "  </thead>\n",
       "  <tbody>\n",
       "    <tr>\n",
       "      <th>0</th>\n",
       "      <td>state</td>\n",
       "      <td>state_abbreviation</td>\n",
       "      <td>county</td>\n",
       "      <td>fips</td>\n",
       "      <td>party</td>\n",
       "      <td>candidate</td>\n",
       "      <td>votes</td>\n",
       "      <td>fraction_votes</td>\n",
       "    </tr>\n",
       "    <tr>\n",
       "      <th>1</th>\n",
       "      <td>Alabama</td>\n",
       "      <td>AL</td>\n",
       "      <td>Autauga</td>\n",
       "      <td>1001</td>\n",
       "      <td>Republican</td>\n",
       "      <td>Donald Trump</td>\n",
       "      <td>5387</td>\n",
       "      <td>0.445</td>\n",
       "    </tr>\n",
       "    <tr>\n",
       "      <th>2</th>\n",
       "      <td>Alabama</td>\n",
       "      <td>AL</td>\n",
       "      <td>Autauga</td>\n",
       "      <td>1001</td>\n",
       "      <td>Republican</td>\n",
       "      <td>Ted Cruz</td>\n",
       "      <td>2482</td>\n",
       "      <td>0.205</td>\n",
       "    </tr>\n",
       "    <tr>\n",
       "      <th>3</th>\n",
       "      <td>Alabama</td>\n",
       "      <td>AL</td>\n",
       "      <td>Autauga</td>\n",
       "      <td>1001</td>\n",
       "      <td>Republican</td>\n",
       "      <td>Marco Rubio</td>\n",
       "      <td>1785</td>\n",
       "      <td>0.14800000000000002</td>\n",
       "    </tr>\n",
       "    <tr>\n",
       "      <th>4</th>\n",
       "      <td>Alabama</td>\n",
       "      <td>AL</td>\n",
       "      <td>Autauga</td>\n",
       "      <td>1001</td>\n",
       "      <td>Republican</td>\n",
       "      <td>Ben Carson</td>\n",
       "      <td>1764</td>\n",
       "      <td>0.146</td>\n",
       "    </tr>\n",
       "  </tbody>\n",
       "</table>\n",
       "</div>"
      ],
      "text/plain": [
       "         0                   1        2     3           4             5  \\\n",
       "0    state  state_abbreviation   county  fips       party     candidate   \n",
       "1  Alabama                  AL  Autauga  1001  Republican  Donald Trump   \n",
       "2  Alabama                  AL  Autauga  1001  Republican      Ted Cruz   \n",
       "3  Alabama                  AL  Autauga  1001  Republican   Marco Rubio   \n",
       "4  Alabama                  AL  Autauga  1001  Republican    Ben Carson   \n",
       "\n",
       "       6                    7  \n",
       "0  votes       fraction_votes  \n",
       "1   5387                0.445  \n",
       "2   2482                0.205  \n",
       "3   1785  0.14800000000000002  \n",
       "4   1764                0.146  "
      ]
     },
     "execution_count": 12,
     "metadata": {},
     "output_type": "execute_result"
    }
   ],
   "source": [
    "prim_result.head() "
   ]
  },
  {
   "cell_type": "code",
   "execution_count": 16,
   "metadata": {
    "collapsed": false
   },
   "outputs": [
    {
     "name": "stdout",
     "output_type": "stream",
     "text": [
      "Size of count_fact: 3196\n",
      "Size of count_fact_dict: 52\n",
      "Size of prim_result: 13213\n"
     ]
    }
   ],
   "source": [
    "print \"Size of count_fact: %d\" % len(count_fact)\n",
    "print \"Size of count_fact_dict: %d\" % len(count_fact_dict)\n",
    "print \"Size of prim_result: %d\" % len(prim_result)"
   ]
  },
  {
   "cell_type": "code",
   "execution_count": null,
   "metadata": {
    "collapsed": true
   },
   "outputs": [],
   "source": []
  }
 ],
 "metadata": {
  "kernelspec": {
   "display_name": "Python 2",
   "language": "python",
   "name": "python2"
  },
  "language_info": {
   "codemirror_mode": {
    "name": "ipython",
    "version": 2
   },
   "file_extension": ".py",
   "mimetype": "text/x-python",
   "name": "python",
   "nbconvert_exporter": "python",
   "pygments_lexer": "ipython2",
   "version": "2.7.11"
  }
 },
 "nbformat": 4,
 "nbformat_minor": 0
}
